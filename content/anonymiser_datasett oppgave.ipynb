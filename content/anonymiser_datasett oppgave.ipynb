{
 "cells": [
  {
   "cell_type": "markdown",
   "metadata": {},
   "source": [
    "# Oppgave - Anonymisering av datasett"
   ]
  },
  {
   "cell_type": "markdown",
   "metadata": {},
   "source": [
    "Anonymiser dataen i variabelen `data_anonym`, som til å begynne med kun er en kopi av den originale dataen `data`."
   ]
  },
  {
   "cell_type": "markdown",
   "metadata": {},
   "source": [
    "### Tips til python, pandas og faker\n",
    "- Se første x rader av dataframe: `data.head(x)`\n",
    "- Lage en liste med num_rows elementer: `name_list = ['Halvor' for i in range(num_rows)]`\n",
    "- Sette en kolonne lik verdiene i en liste: `data_anonym['Name'] = name_list`\n",
    "- Generere et syntetisk navn: faker_generator.name()\n",
    "- faker docs: https://faker.readthedocs.io/en/master/providers.html"
   ]
  },
  {
   "cell_type": "code",
   "execution_count": null,
   "metadata": {},
   "outputs": [],
   "source": [
    "import piplite\n",
    "await piplite.install([\"faker\", \"sdv\", \"pandas\"])"
   ]
  },
  {
   "cell_type": "code",
   "execution_count": null,
   "metadata": {},
   "outputs": [],
   "source": [
    "# Importer nødvendige biblioteker\n",
    "import pandas as pd\n",
    "import faker"
   ]
  },
  {
   "cell_type": "code",
   "execution_count": null,
   "metadata": {},
   "outputs": [],
   "source": [
    "# Last inn data\n",
    "data = pd.read_csv(\"data/Testdatasett.csv\", sep=\";\")\n",
    "data.head(10)"
   ]
  },
  {
   "cell_type": "code",
   "execution_count": null,
   "metadata": {},
   "outputs": [],
   "source": [
    "# Fjern outliers\n",
    "data_anonym = data.copy()\n",
    "data_anonym.drop(index=data_anonym.index[:5], axis=0, inplace=True) # Fjern de 5 øverste radene\n",
    "data_anonym.head()"
   ]
  },
  {
   "cell_type": "code",
   "execution_count": null,
   "metadata": {},
   "outputs": [],
   "source": [
    "# Anonymiser kolonner\n",
    "faker_generator = faker.Faker(['en_US'])\n",
    "num_rows = data_anonym.shape[0]\n",
    "\n",
    "data_anonym.head()"
   ]
  }
 ],
 "metadata": {
  "interpreter": {
   "hash": "4fcf7fc96b98ab2ba03d33fbbbcf45cf8142e0fbfc4b74e473ee638e0697ff0a"
  },
  "kernelspec": {
   "display_name": "Python 3.9.12 ('grad_testdata')",
   "language": "python",
   "name": "python3"
  },
  "language_info": {
   "codemirror_mode": {
    "name": "ipython",
    "version": 3
   },
   "file_extension": ".py",
   "mimetype": "text/x-python",
   "name": "python",
   "nbconvert_exporter": "python",
   "pygments_lexer": "ipython3",
   "version": "3.9.12"
  },
  "orig_nbformat": 4
 },
 "nbformat": 4,
 "nbformat_minor": 2
}
